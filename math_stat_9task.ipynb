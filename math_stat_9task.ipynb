{
  "nbformat": 4,
  "nbformat_minor": 0,
  "metadata": {
    "colab": {
      "provenance": []
    },
    "kernelspec": {
      "name": "python3",
      "display_name": "Python 3"
    },
    "language_info": {
      "name": "python"
    }
  },
  "cells": [
    {
      "cell_type": "code",
      "execution_count": 8,
      "metadata": {
        "id": "RhuGeg5ykFZs"
      },
      "outputs": [],
      "source": [
        "import numpy as np\n",
        "from scipy import integrate\n",
        "import matplotlib.pyplot as plt\n",
        "from scipy.stats import norm, uniform, chi2\n",
        "from scipy.special import gammainc, gamma"
      ]
    },
    {
      "cell_type": "markdown",
      "source": [
        "## **а)**\n"
      ],
      "metadata": {
        "id": "gQ5AGwgik66c"
      }
    },
    {
      "cell_type": "code",
      "source": [
        "degrees = [5, 8, 6, 12, 14, 18, 11, 6, 13, 7]\n",
        "degs = np.arange(10)\n",
        "n = 100\n",
        "sample = []\n",
        "for i in range(len(degrees)):\n",
        "  for j in range(degrees[i]):\n",
        "    sample.append(i)"
      ],
      "metadata": {
        "id": "zYUASveNk4Dc"
      },
      "execution_count": 15,
      "outputs": []
    },
    {
      "cell_type": "code",
      "source": [
        "x = np.arange(10)\n",
        "emp_func = [np.sum(sample < i)/n for i in x]  #эмпирическая функция распределения\n",
        "acc_func = uniform.cdf(x, loc=-0.5, scale = 10) #точная функция распределения"
      ],
      "metadata": {
        "id": "ZF-omJNamWL0"
      },
      "execution_count": 20,
      "outputs": []
    },
    {
      "cell_type": "code",
      "source": [
        "Δ = (n**0.5)*max([abs(emp_func[i] - acc_func[i]) for i in range(10)])\n",
        "print(Δ)"
      ],
      "metadata": {
        "colab": {
          "base_uri": "https://localhost:8080/"
        },
        "id": "Ih5fYAnXnrsV",
        "outputId": "488fb1fe-7a56-479b-8202-bcac2036bd7f"
      },
      "execution_count": 23,
      "outputs": [
        {
          "output_type": "stream",
          "name": "stdout",
          "text": [
            "1.5999999999999996\n"
          ]
        }
      ]
    },
    {
      "cell_type": "code",
      "source": [
        "p_value = 0\n",
        "for i in range(1, 10000):\n",
        "  p_value += (-2)*((-1)**i)*np.exp(-2*i*i*Δ*Δ)\n",
        "print(\"p-value =\", p_value)"
      ],
      "metadata": {
        "colab": {
          "base_uri": "https://localhost:8080/"
        },
        "id": "Xya6Caz-pI65",
        "outputId": "1a43f7fe-2962-4477-afdb-346ec0ed8112"
      },
      "execution_count": 25,
      "outputs": [
        {
          "output_type": "stream",
          "name": "stdout",
          "text": [
            "p-value = 0.011952043239196658\n"
          ]
        }
      ]
    },
    {
      "cell_type": "markdown",
      "source": [
        "## **b)**\n"
      ],
      "metadata": {
        "id": "n6x09HKnsEVG"
      }
    },
    {
      "cell_type": "code",
      "source": [
        "def gauss_pdf(x, a, b):\n",
        "    return 1/(b * np.sqrt(2 * np.pi)) * np.exp(-(x - a)**2 / (2 * b**2) ) #плотность нормального распределения \n",
        "\n",
        "limits = []\n",
        "limits.append(-np.inf)\n",
        "for i in range(9):\n",
        "  limits.append(i + 0.5)\n",
        "limits.append(np.inf)\n",
        "\n",
        "means = np.linspace(3, 7, 100)  #будем искать оптимальные параметры нормального распределения в таких пределах\n",
        "sigmas = np.linspace(1, 5, 100) "
      ],
      "metadata": {
        "id": "CITS2pCnsMTR"
      },
      "execution_count": 69,
      "outputs": []
    },
    {
      "cell_type": "code",
      "source": [
        "print(\"границы интегрирования:\",limits)"
      ],
      "metadata": {
        "colab": {
          "base_uri": "https://localhost:8080/"
        },
        "id": "8KMMQZq7zBfb",
        "outputId": "858fb511-7a27-498c-d9e4-145381be2a70"
      },
      "execution_count": 70,
      "outputs": [
        {
          "output_type": "stream",
          "name": "stdout",
          "text": [
            "границы интегрирования: [-inf, 0.5, 1.5, 2.5, 3.5, 4.5, 5.5, 6.5, 7.5, 8.5, inf]\n"
          ]
        }
      ]
    },
    {
      "cell_type": "code",
      "source": [
        "#найдем параметры нормального распределения методом максимального правдоподобия\n",
        "L_max = 0\n",
        "mean_best = 0\n",
        "sigma_best = 0\n",
        "for sigma in sigmas:\n",
        "  for mean in means:    \n",
        "    L1 = 1\n",
        "    for i in range(len(degrees)):\n",
        "      pi = integrate.quad(gauss_pdf, limits[i], limits[i+1], args = (mean, sigma))[0]\n",
        "      L1 *= pi ** degrees[i]\n",
        "    if L1 > L_max:\n",
        "      L_max = L1\n",
        "      mean_best = mean\n",
        "      sigma_best = sigma\n"
      ],
      "metadata": {
        "id": "NQqs0DNCufIs"
      },
      "execution_count": 71,
      "outputs": []
    },
    {
      "cell_type": "code",
      "source": [
        "print(f\"Оценка параметров нормального распределения: sigma = {round(sigma_best, 2)}, a = {round(mean_best, 2)}\")"
      ],
      "metadata": {
        "colab": {
          "base_uri": "https://localhost:8080/"
        },
        "id": "cGlTAE2lwL-K",
        "outputId": "ed4c4010-fb16-4946-d1af-34431917b31e"
      },
      "execution_count": 72,
      "outputs": [
        {
          "output_type": "stream",
          "name": "stdout",
          "text": [
            "Оценка параметров нормального распределения: sigma = 2.7, a = 4.78\n"
          ]
        }
      ]
    },
    {
      "cell_type": "code",
      "source": [
        "Δ = 0\n",
        "for i in range(len(degrees)):\n",
        "  pi = integrate.quad(gauss_pdf, limits[i], limits[i+1], args = (mean_best, sigma_best))[0]\n",
        "  Δ += ((degrees[i] - n*pi)**2/(n*pi))"
      ],
      "metadata": {
        "id": "kgf_5k5b0rTM"
      },
      "execution_count": 73,
      "outputs": []
    },
    {
      "cell_type": "code",
      "source": [
        "print(f\"Оценка Δ с помощью критерия хи-квадрат: {round(Δ, 2)}\")"
      ],
      "metadata": {
        "colab": {
          "base_uri": "https://localhost:8080/"
        },
        "id": "q70Usxjw0suZ",
        "outputId": "e04fd574-28fd-4429-ab1f-545546d8d55a"
      },
      "execution_count": 75,
      "outputs": [
        {
          "output_type": "stream",
          "name": "stdout",
          "text": [
            "Оценка Δ с помощью критерия хи-квадрат: 9.82\n"
          ]
        }
      ]
    },
    {
      "cell_type": "code",
      "source": [
        "N = 50000\n",
        "ΔK = []\n",
        "for i in range(N):\n",
        "    sample_i = np.random.normal(mean_best, sigma_best, n)  #формируем новую выборку с помощью найденных среднего и дисперсии\n",
        "    tmp = np.linspace(0, max(max(sample_i), 9), 100)\n",
        "    f_ = [np.sum(sample_i<j)/n for j in tmp]  #эмпирическая функция распределения для новой выборки\n",
        "    f = [np.sum(sample<j)/n for j in tmp] #эмпирическая функция распределения для основной выборки \n",
        "    Δ_i = (n**0.5)*max([abs(f_[i] - f[i]) for i in range(len(tmp))])\n",
        "    ΔK.append(Δ_i)"
      ],
      "metadata": {
        "id": "jQK0-s--2QMg"
      },
      "execution_count": 98,
      "outputs": []
    },
    {
      "cell_type": "code",
      "source": [
        "Δest = (n**0.5)* np.max(abs([np.sum(sample<j)/n for j in degs] - norm(mean_best, sigma_best).cdf(x)))\n",
        "Δest"
      ],
      "metadata": {
        "colab": {
          "base_uri": "https://localhost:8080/"
        },
        "id": "HHyhk4CL4yrp",
        "outputId": "0e09d17d-be70-4bf2-fb92-50fa9858cc24"
      },
      "execution_count": 99,
      "outputs": [
        {
          "output_type": "execute_result",
          "data": {
            "text/plain": [
              "0.8390892036470188"
            ]
          },
          "metadata": {},
          "execution_count": 99
        }
      ]
    },
    {
      "cell_type": "code",
      "source": [
        "ΔK_var = np.sort(ΔK) #формируем вариационный ря\n",
        "k = len(ΔK_var [ΔK_var < Δest])\n",
        "p_value = 1-((k-1)/N)\n",
        "print(f\"p_value = {round(p_value, 2)}\")"
      ],
      "metadata": {
        "colab": {
          "base_uri": "https://localhost:8080/"
        },
        "id": "ccbuNsAb4OVT",
        "outputId": "e89646f2-1eb2-43d2-fff2-dea72550bfed"
      },
      "execution_count": 101,
      "outputs": [
        {
          "output_type": "stream",
          "name": "stdout",
          "text": [
            "p_value = 0.99\n"
          ]
        }
      ]
    },
    {
      "cell_type": "markdown",
      "source": [
        "## **c)**"
      ],
      "metadata": {
        "id": "kuUjQLoA8zzb"
      }
    },
    {
      "cell_type": "code",
      "source": [
        "sample"
      ],
      "metadata": {
        "id": "qcKGtWqx9SyE"
      },
      "execution_count": null,
      "outputs": []
    },
    {
      "cell_type": "code",
      "source": [
        "mean_mm = np.mean(sample) #оценки среднего и дисперсии методом моментов\n",
        "sigma_mm = np.std(sample)\n",
        "print(f' оценка по изначальной выборке : a = {mean_mm}, sigma {np.round(sigma_mm,2)}')"
      ],
      "metadata": {
        "colab": {
          "base_uri": "https://localhost:8080/"
        },
        "id": "zUrrr8kU8zeC",
        "outputId": "168ea962-ccff-43f5-904a-650a346da304"
      },
      "execution_count": 104,
      "outputs": [
        {
          "output_type": "stream",
          "name": "stdout",
          "text": [
            " оценка по изначальной выборке : a = 4.77, sigma 2.51\n"
          ]
        }
      ]
    },
    {
      "cell_type": "code",
      "source": [
        "Δ_mm = []\n",
        "N = 50000\n",
        "for i in range(N):\n",
        "    sample_i = np.random.normal(mean_mm, sigma_mm, n)\n",
        "    mean_i = np.mean(sample_i)\n",
        "    sigma_i = np.std(sample_i)\n",
        "    pi = []\n",
        "    mi = []\n",
        "    for j in range(len(degrees)):\n",
        "        pi.append(integrate.quad(gauss_pdf, limits[j], limits[j+1], args = (mean_i, sigma_i))[0])\n",
        "        mi.append(len(sample_i[(sample_i >= limits[j]) & (sample_i <= limits[j+1])]))\n",
        "    Δ_mm.append(sum(((mi[i] - n*pi[i])**2)/(n*(pi[i])) for i in range(len(degrees))))"
      ],
      "metadata": {
        "id": "yctGhWmx9Nul"
      },
      "execution_count": 105,
      "outputs": []
    },
    {
      "cell_type": "code",
      "source": [
        "Δ_mm_var = np.sort(Δ_mm)\n",
        "k_mm = len(Δ_mm_var[Δ_mm_var<Δ])\n",
        "k_mm"
      ],
      "metadata": {
        "colab": {
          "base_uri": "https://localhost:8080/"
        },
        "id": "9x7EX4U2-n_F",
        "outputId": "3f0166b1-16d0-4802-c44b-d129926b52de"
      },
      "execution_count": 108,
      "outputs": [
        {
          "output_type": "execute_result",
          "data": {
            "text/plain": [
              "39438"
            ]
          },
          "metadata": {},
          "execution_count": 108
        }
      ]
    },
    {
      "cell_type": "code",
      "source": [
        "p_value_mm = 1-((k_mm-1)/N)\n",
        "print(f\"p_value = {round(p_value_mm, 2)}\")"
      ],
      "metadata": {
        "colab": {
          "base_uri": "https://localhost:8080/"
        },
        "id": "XvGbODxz-4EF",
        "outputId": "2748cd15-b443-4f79-c742-afdf7baf6cd6"
      },
      "execution_count": 109,
      "outputs": [
        {
          "output_type": "stream",
          "name": "stdout",
          "text": [
            "p_value = 0.21\n"
          ]
        }
      ]
    },
    {
      "cell_type": "code",
      "source": [
        "x = np.linspace(0, 30, 1000)    \n",
        "Δ_mm_emp = [len(Δ_mm_var[Δ_mm_var<i])/N for i in x]  #эмпирическая функция распределения"
      ],
      "metadata": {
        "id": "Dp6VaPLW_quL"
      },
      "execution_count": 111,
      "outputs": []
    },
    {
      "cell_type": "code",
      "source": [
        "plt.figure(figsize=(10,7))\n",
        "ax.set_xticks(np.linspace(0, max(x), 15))\n",
        "ax.set_yticks(np.linspace(0, 1, 12))\n",
        "plt.plot(x, Δ_mm_emp, label=\"эмпирическая функция распределения\")\n",
        "plt.plot(x, chi2.cdf(x, df = 7), label = 'χ^2(7)')\n",
        "plt.plot(x, chi2.cdf(x, df = 9), label = 'χ^2(9)')\n",
        "plt.title(\"Сравнение распределений\")\n",
        "plt.grid(which=\"major\", alpha=0.6)\n",
        "plt.legend(loc='best', prop={'size': 15})\n",
        "plt.show()"
      ],
      "metadata": {
        "colab": {
          "base_uri": "https://localhost:8080/",
          "height": 444
        },
        "id": "Gw_KBUCoApaO",
        "outputId": "d366d938-7d8e-480a-e261-e20039ff12d9"
      },
      "execution_count": 117,
      "outputs": [
        {
          "output_type": "display_data",
          "data": {
            "text/plain": [
              "<Figure size 720x504 with 1 Axes>"
            ],
            "image/png": "[encoded data removed]"
          },
          "metadata": {
            "needs_background": "light"
          }
        }
      ]
    }
  ]
}