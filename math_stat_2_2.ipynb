{
  "nbformat": 4,
  "nbformat_minor": 0,
  "metadata": {
    "colab": {
      "provenance": []
    },
    "kernelspec": {
      "name": "python3",
      "display_name": "Python 3"
    },
    "language_info": {
      "name": "python"
    }
  },
  "cells": [
    {
      "cell_type": "code",
      "source": [
        "import statsmodels.api as sm\n",
        "import numpy as np\n",
        "from scipy import stats\n",
        "from matplotlib import pyplot as plt"
      ],
      "metadata": {
        "id": "r2cbgaWUdyIn"
      },
      "execution_count": 1,
      "outputs": []
    },
    {
      "cell_type": "code",
      "execution_count": 6,
      "metadata": {
        "colab": {
          "base_uri": "https://localhost:8080/"
        },
        "id": "bVN2hKt-dfhH",
        "outputId": "a7bdcfb3-3c84-4588-acb4-2dd2969ddc2d"
      },
      "outputs": [
        {
          "output_type": "stream",
          "name": "stderr",
          "text": [
            "<ipython-input-6-8b3e9f5fa655>:1: VisibleDeprecationWarning: Creating an ndarray from ragged nested sequences (which is a list-or-tuple of lists-or-tuples-or ndarrays with different lengths or shapes) is deprecated. If you meant to do this, you must specify 'dtype=object' when creating the ndarray.\n",
            "  A = np.array([[83, 85], [84, 85, 85, 86, 86, 87], \\\n"
          ]
        }
      ],
      "source": [
        "A = np.array([[83, 85], [84, 85, 85, 86, 86, 87], \\\n",
        "     [86, 87, 87, 87, 88, 88, 88, 88, 88, 89, 90], \\\n",
        "     [89, 90, 90, 91], [90, 92]])\n",
        "N = 25"
      ]
    },
    {
      "cell_type": "code",
      "source": [
        "def rss0(x):\n",
        "    return sum([(a - np.mean(x))**2 for a in x])\n",
        "\n",
        "def regression(psi, eta):\n",
        "    F = psi.T @ psi\n",
        "    F_inv = np.linalg.inv(F)\n",
        "    b = (F_inv @ psi.T) @ eta.T\n",
        "    e = eta - (psi @ b.T).T\n",
        "    RSSy = e @ e.T\n",
        "    RSS0y = rss0(eta)\n",
        "\n",
        "    R = (RSS0y - RSSy)/RSS0y\n",
        "    \n",
        "    delta = [b[i]*((N - len(psi[0]))/(RSSy*F_inv[i][i]))**(1/2) \\\n",
        "             for i in range(len(psi[0]))]\n",
        "    b_p_value = 2*(1 - stats.t.cdf(np.abs(delta), N - np.shape(psi)[1]))\n",
        "    \n",
        "    return b, b_p_value, RSSy, RSS0y, R"
      ],
      "metadata": {
        "id": "hHFG3cn8d5QZ"
      },
      "execution_count": 7,
      "outputs": []
    },
    {
      "cell_type": "markdown",
      "source": [
        "## a)"
      ],
      "metadata": {
        "id": "Bfuh6UYzdiAa"
      }
    },
    {
      "cell_type": "code",
      "source": [
        "k = 0\n",
        "size = 0\n",
        "for a in A:\n",
        "    size += len(a)\n",
        "\n",
        "psi = np.zeros((size, len(A)))\n",
        "eta = np.zeros(size)\n",
        "\n",
        "for i in range(len(A)):\n",
        "    for j in range(len(A[i])):\n",
        "        eta[k] = A[i][j]\n",
        "        psi[k][i] = 1\n",
        "        k += 1\n",
        "\n",
        "F = psi.T @ psi\n",
        "F_inv = np.linalg.inv(F)\n",
        "    \n",
        "b, b_p_value, RSS, RSS0, R = regression(psi, eta)\n",
        "\n",
        "print(\"b =\", np.around((b), decimals=3))\n",
        "print(\"p-value =\", np.around((b_p_value), decimals=3))\n",
        "print()\n",
        "print (\"R =\", \"%.3f\" % R)\n",
        "\n",
        "delta_R = R/(1 - R)*(size - len(A))/(len(A) - 1)\n",
        "R_p_value = 1 - stats.f.cdf(np.abs(delta_R), \\\n",
        "                            len(A) - 1, size - len(A))\n",
        "print(\"p-value =\", \"%.3f\" % R_p_value)"
      ],
      "metadata": {
        "colab": {
          "base_uri": "https://localhost:8080/"
        },
        "id": "zyKmYbUWds0x",
        "outputId": "36f63771-d901-4a6f-f182-9f7aa5b3413f"
      },
      "execution_count": 8,
      "outputs": [
        {
          "output_type": "stream",
          "name": "stdout",
          "text": [
            "b = [84.    85.5   87.818 90.    91.   ]\n",
            "p-value = [0. 0. 0. 0. 0.]\n",
            "\n",
            "R = 0.811\n",
            "p-value = 0.000\n"
          ]
        }
      ]
    },
    {
      "cell_type": "markdown",
      "source": [
        "## b)"
      ],
      "metadata": {
        "id": "hgkKKAqhd03V"
      }
    },
    {
      "cell_type": "code",
      "source": [
        "delta_ij = np.zeros(int(len(A)*(len(A) - 1)/2))\n",
        "p_value_ij = {}\n",
        "\n",
        "for i in range(len(A)):\n",
        "    for j in range(i + 1, len(A)):\n",
        "        l = i*(len(A)-1-i) + j-1 + (i-1)*((i-1) > 0) + ((i-2) > 0)\n",
        "        \n",
        "        delta_ij[l] = np.abs((b[i] - b[j])*\\\n",
        "                                (size-len(A))**(1/2)/(RSS*\\\n",
        "                                 (F_inv[i][i] + F_inv[j][j]))**0.5)\n",
        "        p_value_ij[str(i)+'<->'+str(j)] = np.around((2*\\\n",
        "            (1 - stats.t.cdf(delta_ij[l], size-len(A)))), decimals=3)\n",
        "\n",
        "print(\" p-value(ij): \", p_value_ij)"
      ],
      "metadata": {
        "colab": {
          "base_uri": "https://localhost:8080/"
        },
        "id": "HRivWM6nd10p",
        "outputId": "9672b291-815a-4e1b-f991-12fa6f51dc65"
      },
      "execution_count": 9,
      "outputs": [
        {
          "output_type": "stream",
          "name": "stdout",
          "text": [
            " p-value(ij):  {'0<->1': 0.103, '0<->2': 0.0, '0<->3': 0.0, '0<->4': 0.0, '1<->2': 0.0, '1<->3': 0.0, '1<->4': 0.0, '2<->3': 0.002, '2<->4': 0.001, '3<->4': 0.296}\n",
            " возрастные группы 0,1 и 3,4 похожи\n"
          ]
        }
      ]
    },
    {
      "cell_type": "markdown",
      "source": [
        "из p-value > 0.05 делаем вывод, что возростные группы:\n",
        "0 и 1,\n",
        "3 и 4 - похожи"
      ],
      "metadata": {
        "id": "8B4bQv96eLd8"
      }
    }
  ]
}