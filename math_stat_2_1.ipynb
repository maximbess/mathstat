{
  "nbformat": 4,
  "nbformat_minor": 0,
  "metadata": {
    "colab": {
      "provenance": []
    },
    "kernelspec": {
      "name": "python3",
      "display_name": "Python 3"
    },
    "language_info": {
      "name": "python"
    }
  },
  "cells": [
    {
      "cell_type": "code",
      "execution_count": 1,
      "metadata": {
        "id": "GQ5EV8mGWSko"
      },
      "outputs": [],
      "source": [
        "import statsmodels.api as sm\n",
        "import numpy as np\n",
        "from scipy import stats\n",
        "from matplotlib import pyplot as plt"
      ]
    },
    {
      "cell_type": "code",
      "source": [
        "N = 50\n",
        "sample = stats.uniform.rvs(size=N*5)*2 - 1\n",
        "sample = sample.reshape((N, 5))\n",
        "eta = np.zeros((N))\n",
        "\n",
        "C = [2, 3, -2, 1, 1, -1]\n",
        "\n",
        "for i in range(N):\n",
        "    eta[i] = np.random.normal(C[0] + C[1:] @ sample[i].T, 1.5)"
      ],
      "metadata": {
        "id": "5VmNoXCxWsdi"
      },
      "execution_count": 47,
      "outputs": []
    },
    {
      "cell_type": "code",
      "source": [
        "def rss0(x):\n",
        "    return sum([(a - np.mean(x))**2 for a in x])\n",
        "\n",
        "def regression(psi, eta):\n",
        "    F = psi.T @ psi\n",
        "    F_inv = np.linalg.inv(F)\n",
        "    b = (F_inv @ psi.T) @ eta.T\n",
        "    e = eta - (psi @ b.T).T\n",
        "    RSSy = e @ e.T\n",
        "    RSS0y = rss0(eta)\n",
        "\n",
        "    R = (RSS0y - RSSy)/RSS0y\n",
        "    \n",
        "    delta = [b[i]*((N - len(psi[0]))/(RSSy*F_inv[i][i]))**(1/2) \\\n",
        "             for i in range(len(psi[0]))]\n",
        "    b_p_value = 2*(1 - stats.t.cdf(np.abs(delta), N - np.shape(psi)[1]))\n",
        "    \n",
        "    return b, b_p_value, RSSy, RSS0y, R"
      ],
      "metadata": {
        "id": "A3OmqTWoW5rI"
      },
      "execution_count": 48,
      "outputs": []
    },
    {
      "cell_type": "markdown",
      "source": [
        "## a)"
      ],
      "metadata": {
        "id": "u2WG4IwyXItW"
      }
    },
    {
      "cell_type": "code",
      "source": [
        "RSS0_xi = np.zeros(5)\n",
        "RSS_xi = np.zeros(5)\n",
        "R_xi = np.zeros(5)\n",
        "\n",
        "for i in range(5):\n",
        "    psi_xi = np.copy(sample)\n",
        "    for j in range(N):\n",
        "        psi_xi[j][i] = 1\n",
        "    \n",
        "    RSS_xi[i] = regression(psi_xi, sample.T[i])[2]\n",
        "    RSS0_xi[i] = regression(psi_xi, sample.T[i])[3]\n",
        "    R_xi[i] = (RSS0_xi[i] - RSS_xi[i])/RSS0_xi[i]\n",
        "    \n",
        "    \n",
        "print(\"R_xi^2 =\", np.around((R_xi**2), decimals=3))"
      ],
      "metadata": {
        "colab": {
          "base_uri": "https://localhost:8080/"
        },
        "id": "UemYvn6nXQzo",
        "outputId": "43b96827-f6c4-4338-b4f3-933b0670ceb2"
      },
      "execution_count": 49,
      "outputs": [
        {
          "output_type": "stream",
          "name": "stdout",
          "text": [
            "R_xi^2 = [0.009 0.006 0.001 0.001 0.   ]\n"
          ]
        }
      ]
    },
    {
      "cell_type": "markdown",
      "source": [
        "все значения меньше 0.7 => мультиколлинеарности нет"
      ],
      "metadata": {
        "id": "3zm5alOmXmBJ"
      }
    },
    {
      "cell_type": "markdown",
      "source": [
        "## b)"
      ],
      "metadata": {
        "id": "HIx0HfWhX5Fo"
      }
    },
    {
      "cell_type": "code",
      "source": [
        "tmp = np.copy(sample)\n",
        "psi = np.empty((N, 6))\n",
        "\n",
        "for i in range(N):\n",
        "     psi[i] = np.insert(tmp[i], 0, 1)\n",
        "        \n",
        "b, b_p_value, RSSy, RSS0y, R = regression(psi, eta)\n",
        "\n",
        "F = psi.T @ psi\n",
        "F_inv = np.linalg.inv(F)\n",
        "e = (eta - psi @ b.T).T\n",
        "\n",
        "print(\" b =\", np.around((b), decimals=3))\n",
        "print(\" p-value =\", np.around((b_p_value), decimals=3))"
      ],
      "metadata": {
        "colab": {
          "base_uri": "https://localhost:8080/"
        },
        "id": "Wmgn7CvFX66U",
        "outputId": "15bce3b4-e69a-41c7-c3d3-5394310f0729"
      },
      "execution_count": 50,
      "outputs": [
        {
          "output_type": "stream",
          "name": "stdout",
          "text": [
            " b = [ 1.757  3.017 -2.143  1.582  0.868 -0.503]\n",
            " p-value = [0.    0.    0.    0.    0.007 0.115]\n"
          ]
        }
      ]
    },
    {
      "cell_type": "markdown",
      "source": [
        "p-value при b3 > 0.05 => 3 - не значим"
      ],
      "metadata": {
        "id": "HIAzfod5Yd-R"
      }
    },
    {
      "cell_type": "markdown",
      "source": [
        "## с)"
      ],
      "metadata": {
        "id": "KKfvKZYyYmgP"
      }
    },
    {
      "cell_type": "code",
      "source": [
        "print(\"RSS0y =\", \"%.3f\" % RSS0y)\n",
        "print(\"RSSy =\", \"%.3f\" % RSSy)\n",
        "print(\"R =\", \"%.3f\" % R, \" - коэффициент детерминации\")\n",
        "\n",
        "delta_R = R/(1 - R)*(N - 6)/5\n",
        "\n",
        "R_p_value = 1 - stats.f.cdf(np.abs(delta_R), 5, N - 6)\n",
        "print(\"R p-value =\", \"%.3f\" % R_p_value)"
      ],
      "metadata": {
        "colab": {
          "base_uri": "https://localhost:8080/"
        },
        "id": "TkDTM33yYoVQ",
        "outputId": "8e0f3c54-16e8-4ae5-beb9-07e660bcf23d"
      },
      "execution_count": 51,
      "outputs": [
        {
          "output_type": "stream",
          "name": "stdout",
          "text": [
            "RSS0y = 442.308\n",
            "RSSy = 72.083\n",
            "R = 0.837  - коэффициент детерминации\n",
            "R p-value = 0.000\n"
          ]
        }
      ]
    },
    {
      "cell_type": "markdown",
      "source": [
        "p-value < 0.05 => отвергаем теорию о незначимости регрессии"
      ],
      "metadata": {
        "id": "MwCuK4-zZOey"
      }
    },
    {
      "cell_type": "markdown",
      "source": [
        "## d)"
      ],
      "metadata": {
        "id": "tOPuvj5JZXUL"
      }
    },
    {
      "cell_type": "code",
      "source": [
        "x0 = np.array([0, 0, 0, 0, 0])\n",
        "psi_x0 = np.insert(x0, 0, 1)\n",
        "\n",
        "eta0 = np.random.normal(C[0] + C[1:] @ x0.T, 1.5)\n",
        "print(\"eta0 =\", \"%.3f\" % eta0)\n",
        "\n",
        "y0 = b[0] + b[1:] @ x0.T\n",
        "print(\"y0 =\", \"%.3f\" % y0)\n",
        "\n",
        "delta = stats.t.ppf(1.95/2, N - 6)*\\\n",
        "(1 + (psi_x0 @ F_inv) @ psi_x0.T)**(1/2)*(RSSy/(N - 6))**(1/2)\n",
        "\n",
        "print('[', \"%.3f\" % (y0 - delta),':', \"%.3f\" % (y0 - delta), \\\n",
        "      \"] - дов. интервал\\n\")"
      ],
      "metadata": {
        "colab": {
          "base_uri": "https://localhost:8080/"
        },
        "id": "BmqBztujZZIu",
        "outputId": "6e410ad4-fb69-4d5a-c1cd-0e6fef7a6fb2"
      },
      "execution_count": 52,
      "outputs": [
        {
          "output_type": "stream",
          "name": "stdout",
          "text": [
            "eta0 = 3.168\n",
            "y0 = 1.757\n",
            "[ -0.853 : -0.853 ] - дов. интервал\n",
            "\n"
          ]
        }
      ]
    },
    {
      "cell_type": "code",
      "source": [
        "fig, ax = plt.subplots(1, 1, figsize = (12,1.5))\n",
        "ax.plot([y0 - delta, y0 + delta], [0,0], color = 'k', label = \"доверительный интервал\")\n",
        "ax.set_xticks(np.linspace(y0 - delta-0.2, y0 + delta+0.2, 15))\n",
        "ax.scatter(y0, 0, color = 'red',  label=\"y0\")\n",
        "ax.grid(alpha = 0.4)\n",
        "ax.legend()"
      ],
      "metadata": {
        "colab": {
          "base_uri": "https://localhost:8080/",
          "height": 0
        },
        "id": "koG1-3Y_ZvKc",
        "outputId": "0a523d20-738e-446f-f475-5197ab9c2204"
      },
      "execution_count": 53,
      "outputs": [
        {
          "output_type": "execute_result",
          "data": {
            "text/plain": [
              "<matplotlib.legend.Legend at 0x7f864568aa30>"
            ]
          },
          "metadata": {},
          "execution_count": 53
        },
        {
          "output_type": "display_data",
          "data": {
            "text/plain": [
              "<Figure size 864x108 with 1 Axes>"
            ],
            "image/png": "[encoded data removed]"
          },
          "metadata": {
            "needs_background": "light"
          }
        }
      ]
    },
    {
      "cell_type": "markdown",
      "source": [
        "## e)"
      ],
      "metadata": {
        "id": "AFFOohkXaKzt"
      }
    },
    {
      "cell_type": "code",
      "source": [
        "I=0\n",
        "for i in range(N):\n",
        "    for j in range (i + 1, N):\n",
        "        if(e[i] > e[j]):\n",
        "            I += 1\n",
        "\n",
        "delta = (I - N*(N - 1)/4)/(N**3/36)**(1/2)\n",
        "\n",
        "p_value = 2*(1 - stats.norm.cdf(abs(delta)))\n",
        "print(\" p-value =\", \"%.3f\" % p_value)"
      ],
      "metadata": {
        "colab": {
          "base_uri": "https://localhost:8080/"
        },
        "id": "4Gu5kpdjaOaO",
        "outputId": "18288ad5-a416-4e46-ec6e-8da5c4d89761"
      },
      "execution_count": 54,
      "outputs": [
        {
          "output_type": "stream",
          "name": "stdout",
          "text": [
            " p-value = 0.754\n"
          ]
        }
      ]
    },
    {
      "cell_type": "markdown",
      "source": [
        "p-value > 0.05 => нет оснований отвергнуть предположение о независимости ошибок измерения"
      ],
      "metadata": {
        "id": "16mr4d5zaTEN"
      }
    },
    {
      "cell_type": "markdown",
      "source": [
        "## f)"
      ],
      "metadata": {
        "id": "xUhaIZ5CagDB"
      }
    },
    {
      "cell_type": "code",
      "source": [
        "M = 5000\n",
        "D = np.zeros(M)\n",
        "s = np.zeros((M,N))\n",
        "sigma_est = np.mean((e - np.mean(e))**2)**(1/2)\n",
        "\n",
        "def sup(z, sigma):\n",
        "    w = np.zeros(N)\n",
        "    \n",
        "    ecdf = sm.distributions.ECDF(z)\n",
        "    u = ecdf(z)\n",
        "    v = stats.norm.cdf(z, 0, sigma)\n",
        "    w[0] = np.max((v[0], np.abs(v[0] - u[0])))\n",
        "    for i in range(1, N):\n",
        "        w[i] = np.max((np.abs(v[i] - u[i]), np.abs(v[i] - u[i - 1])))\n",
        "    return np.max(w)\n",
        "\n",
        "for i in range(M):\n",
        "    for j in range(N):\n",
        "        a = np.random.uniform()\n",
        "        s[i][j] = stats.norm.ppf(a, 0, sigma_est)\n",
        "    sigma = np.mean((s[i] - np.mean(s[i]))**2)**(1/2)\n",
        "    D[i] = sup(s[i], sigma)\n",
        "    \n",
        "D = np.sort(D)     \n",
        "d = sup(e, sigma_est)\n",
        "p_value = 0\n",
        "\n",
        "for i in range(M):\n",
        "    if (D[i] > d):\n",
        "        p_value = 1 - i/M\n",
        "        break\n",
        "        \n",
        "print(\"p-value =\", \"%.3f\" % p_value)"
      ],
      "metadata": {
        "colab": {
          "base_uri": "https://localhost:8080/"
        },
        "id": "sDWzRSTlaiRh",
        "outputId": "bddc0105-a5d6-4880-8d67-ba2752cff971"
      },
      "execution_count": 55,
      "outputs": [
        {
          "output_type": "stream",
          "name": "stdout",
          "text": [
            "p-value = 0.603\n"
          ]
        }
      ]
    },
    {
      "cell_type": "markdown",
      "source": [
        "p-value > 0.05 => нет оснований отвергнуть гипотезу о нормальном распределении ошибок"
      ],
      "metadata": {
        "id": "DMjYxL7PbIyL"
      }
    },
    {
      "cell_type": "code",
      "source": [
        "var_est = np.var(e)\n",
        "mean_est = np.mean(e)\n",
        "\n",
        "n_dots = 100\n",
        "points = np.linspace(np.min(e), np.max(e), n_dots)\n",
        "\n",
        "F_emp = [np.sum(e<el)/N for el in np.sort(e)]\n",
        "F_acc = [stats.norm.cdf(i, mean_est, var_est) for i in np.sort(e)]\n",
        "\n",
        "delta_acc = N**0.5*max(list(map(lambda x,y: abs(x-y), F_acc, F_emp)))"
      ],
      "metadata": {
        "id": "tKsUigqRa0jS"
      },
      "execution_count": 56,
      "outputs": []
    },
    {
      "cell_type": "code",
      "source": [
        "fig, ax = plt.subplots(1, 1, figsize = (8,4))\n",
        "ax.plot(points, stats.norm.cdf(points, mean_est, var_est), label = \"norm distribution\")\n",
        "ax.plot(np.sort(e), F_emp, label = \"error distribution\")\n",
        "ax.set_xticks(np.linspace(min(e), max(e), 10))\n",
        "ax.grid(alpha = 0.4)\n",
        "ax.legend()\n",
        "None"
      ],
      "metadata": {
        "colab": {
          "base_uri": "https://localhost:8080/",
          "height": 0
        },
        "id": "OwH1UPJaa_Z2",
        "outputId": "67c0c528-4e67-457b-bfd9-f16fd508b5af"
      },
      "execution_count": 57,
      "outputs": [
        {
          "output_type": "display_data",
          "data": {
            "text/plain": [
              "<Figure size 576x288 with 1 Axes>"
            ],
            "image/png": "[encoded data removed]"
          },
          "metadata": {
            "needs_background": "light"
          }
        }
      ]
    },
    {
      "cell_type": "markdown",
      "source": [
        "## g)"
      ],
      "metadata": {
        "id": "LGdcpQLWbTTY"
      }
    },
    {
      "cell_type": "code",
      "source": [
        "sigma_out = np.median(abs(e))/0.675\n",
        "\n",
        "fig, ax = plt.subplots(1, 1, figsize = (8,4))\n",
        "ax.scatter(np.arange(N), e, color = 'k')\n",
        "ax.plot([0, 50], [-2*sigma_out, -2*sigma_out], color = 'r')\n",
        "ax.plot([0, 50], [2*sigma_out, 2*sigma_out], color = 'r')\n",
        "\n",
        "ax.set_xticks(np.linspace(0, N, 10))\n",
        "ax.grid(alpha = 0.4)\n",
        "ax.set_title(\"выбросы в выборке\")\n",
        "None"
      ],
      "metadata": {
        "colab": {
          "base_uri": "https://localhost:8080/",
          "height": 281
        },
        "id": "99pceudDbW5K",
        "outputId": "4fde05d1-51b8-4d73-bbfd-0b94fc37203c"
      },
      "execution_count": 58,
      "outputs": [
        {
          "output_type": "display_data",
          "data": {
            "text/plain": [
              "<Figure size 576x288 with 1 Axes>"
            ],
            "image/png": "[encoded data removed]"
          },
          "metadata": {
            "needs_background": "light"
          }
        }
      ]
    },
    {
      "cell_type": "markdown",
      "source": [
        "## h)"
      ],
      "metadata": {
        "id": "7j8DVEbicUMX"
      }
    },
    {
      "cell_type": "code",
      "source": [
        "RSS_CV = 0\n",
        "\n",
        "for i in range(N):    \n",
        "    tmp = np.delete(sample, i, axis = 0)\n",
        "    eta_CV = np.delete(eta, i, axis = 0)\n",
        "    psi_CV = np.empty([N - 1, 6])\n",
        "    for i in range(N - 1):\n",
        "         psi_CV[i] = np.insert(tmp[i], 0, 1)\n",
        "\n",
        "    F_CV = psi_CV.T @ psi_CV\n",
        "    F_inv_CV = np.linalg.inv(F_CV)\n",
        "    b_CV = (F_inv_CV @ psi_CV.T) @ eta_CV.T\n",
        "    RSS_CV += (eta[i] - b_CV[0] - b_CV[1:] @ sample[i])**2\n",
        "\n",
        "R_CV = (RSS0y - RSS_CV)/RSS0y\n",
        "print(\"R_CV =\", \"%.3f\" % R_CV)"
      ],
      "metadata": {
        "colab": {
          "base_uri": "https://localhost:8080/"
        },
        "id": "tTT50oeQcOgX",
        "outputId": "b58b92b7-b797-4bf1-ea18-cd578fe93f7d"
      },
      "execution_count": 59,
      "outputs": [
        {
          "output_type": "stream",
          "name": "stdout",
          "text": [
            "R_CV = 0.981\n"
          ]
        }
      ]
    },
    {
      "cell_type": "markdown",
      "source": [
        "## i)"
      ],
      "metadata": {
        "id": "IBNBZbidcbii"
      }
    },
    {
      "cell_type": "code",
      "source": [
        "x = sample[0]\n",
        "y = np.array([np.random.normal(C[0] + C[1:] @ x.T, 1.5) \\\n",
        "              for i in range(5)])\n",
        "\n",
        "delta = (N - 6)*((y - np.mean(y)) @ (y - np.mean(y)).T)/RSSy/4\n",
        "p_value = 1 - stats.f.cdf(np.abs(delta), 4, 5)\n",
        "\n",
        "print(\"p-value =\", \"%.3f\" % p_value)"
      ],
      "metadata": {
        "colab": {
          "base_uri": "https://localhost:8080/"
        },
        "id": "cth9bUcycgpa",
        "outputId": "e933a220-b2d7-4b4e-a52b-fe31233395b6"
      },
      "execution_count": 60,
      "outputs": [
        {
          "output_type": "stream",
          "name": "stdout",
          "text": [
            "p-value = 0.558\n"
          ]
        }
      ]
    },
    {
      "cell_type": "markdown",
      "source": [
        "P-value > 0.05 => модель регрессии адекватна"
      ],
      "metadata": {
        "id": "2JCcBrhXckEx"
      }
    },
    {
      "cell_type": "markdown",
      "source": [
        "## j)"
      ],
      "metadata": {
        "id": "YGH6bRTrcqX2"
      }
    },
    {
      "cell_type": "code",
      "source": [
        "print(np.argmax(b_p_value) - 1, 'кси наименее значим')\n",
        "\n",
        "psi_simp = np.delete(psi, np.argmax(b_p_value), axis = 1)\n",
        "b_simp, b_p_value_simp, RSSy_simp, RSS0y_simp, R_simp = \\\n",
        "    regression(psi_simp, eta)\n",
        "print(\"\\nДля упрощенной модели:\")\n",
        "print(\"b =\", np.around((b_simp), decimals=3))\n",
        "print(\"p-value =\", np.around((b_p_value_simp), decimals=3))\n",
        "\n",
        "delta_R_simp = R_simp/(1 - R_simp)*(N - 5)/4\n",
        "p_value_simp = 1 - stats.f.cdf(np.abs(delta_R_simp), 4, N - 5)\n",
        "\n",
        "print(\"p-value =\", \"%.3f\" % p_value_simp)\n",
        "\n",
        "print(\"\\nСравним две регрессии:\")\n",
        "delta_regression = (RSSy_simp - RSSy)/RSSy*(N - 6)\n",
        "p_value = 1 - stats.f.cdf(np.abs(delta), 1, N - 6)\n",
        "print(\"p-value =\", \"%.3f\" % p_value)"
      ],
      "metadata": {
        "colab": {
          "base_uri": "https://localhost:8080/"
        },
        "id": "93GzG9ilc1Yc",
        "outputId": "ee2a34e6-2d2d-4590-c518-6c57236f72a2"
      },
      "execution_count": 61,
      "outputs": [
        {
          "output_type": "stream",
          "name": "stdout",
          "text": [
            "4 кси наименее значим\n",
            "\n",
            "Для упрощенной модели:\n",
            "b = [ 1.698  3.078 -2.095  1.565  0.876]\n",
            "p-value = [0.    0.    0.    0.    0.007]\n",
            "p-value = 0.000\n",
            "\n",
            "Сравним две регрессии:\n",
            "p-value = 0.366\n"
          ]
        }
      ]
    },
    {
      "cell_type": "markdown",
      "source": [
        "## k)"
      ],
      "metadata": {
        "id": "WJW2aC_UdK4y"
      }
    },
    {
      "cell_type": "code",
      "source": [
        "M = 1000\n",
        "B_delta = np.empty(M)\n",
        "\n",
        "for i in range(M): \n",
        "    psi1 = np.empty((N,6))\n",
        "    eta1 = np.empty(N)\n",
        "    for j in range(N):\n",
        "        q = np.random.choice(range(N))\n",
        "        psi1[j] = psi[q]\n",
        "        eta1[j] = eta[q]\n",
        "        \n",
        "    b1, b1_p_v, RSSy1, RSS0y1, Ry1 = regression(psi1, eta1)\n",
        "    b2, b2_p_v, RSSy2, RSS0y2, Ry2 = \\\n",
        "    regression(np.delete(psi1, np.argmax(b1_p_v), axis = 1), eta1)\n",
        "    \n",
        "    B_delta[i] = (RSSy2/RSSy1 - 1)*(N - 6)\n",
        "    \n",
        "B_delta = np.sort(B_delta)\n",
        "p_value = 0\n",
        "\n",
        "for i in range(M):\n",
        "    if (B_delta[i] > delta_regression):\n",
        "        p_value = 1 - i/M\n",
        "        break\n",
        "        \n",
        "print(\"p-value =\", \"%.3f\" % p_value)"
      ],
      "metadata": {
        "colab": {
          "base_uri": "https://localhost:8080/"
        },
        "id": "JjpHDHledOrQ",
        "outputId": "97f5c50d-c811-4279-f551-f9219081b021"
      },
      "execution_count": 62,
      "outputs": [
        {
          "output_type": "stream",
          "name": "stdout",
          "text": [
            "p-value = 0.465\n"
          ]
        }
      ]
    }
  ]
}