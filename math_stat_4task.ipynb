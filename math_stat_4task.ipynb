{
  "nbformat": 4,
  "nbformat_minor": 0,
  "metadata": {
    "colab": {
      "provenance": [],
      "collapsed_sections": []
    },
    "kernelspec": {
      "name": "python3",
      "display_name": "Python 3"
    },
    "language_info": {
      "name": "python"
    }
  },
  "cells": [
    {
      "cell_type": "markdown",
      "source": [
        "### **№4**"
      ],
      "metadata": {
        "id": "CKej2H9bwHzG"
      }
    },
    {
      "cell_type": "code",
      "execution_count": 1,
      "metadata": {
        "id": "b5dmoEnrv3hR"
      },
      "outputs": [],
      "source": [
        "%matplotlib inline\n",
        "import matplotlib.pyplot as plt\n",
        "import numpy as np\n",
        "import random\n",
        "from scipy import stats"
      ]
    },
    {
      "cell_type": "markdown",
      "source": [
        "Строим выборку размера n = 100 равномерного распределения U(θ, 2θ), при θ = 10"
      ],
      "metadata": {
        "id": "fXniv5LMwrf-"
      }
    },
    {
      "cell_type": "code",
      "source": [
        "n = 100\n",
        "θ = 10\n",
        "sample = stats.uniform.rvs(size=n)*θ + θ\n",
        "sample"
      ],
      "metadata": {
        "colab": {
          "base_uri": "https://localhost:8080/"
        },
        "id": "mJrjhcjmwDZq",
        "outputId": "69de0a16-9f5a-4d0c-d39c-8bd1b3a2facd"
      },
      "execution_count": 79,
      "outputs": [
        {
          "output_type": "execute_result",
          "data": {
            "text/plain": [
              "array([13.96241304, 16.73451854, 18.58522738, 18.65448528, 17.78607356,\n",
              "       15.97271905, 13.01528872, 16.68633512, 13.1035419 , 11.25193744,\n",
              "       11.98566392, 14.5955065 , 16.0182553 , 15.64452551, 14.76799974,\n",
              "       12.84915103, 16.56853173, 18.50671569, 11.80950377, 11.46713266,\n",
              "       11.40779212, 14.26755575, 18.54523674, 11.5101879 , 15.18163214,\n",
              "       10.33659956, 10.26404807, 17.2166167 , 17.77960508, 19.12213868,\n",
              "       15.86449512, 13.8794165 , 12.40220321, 16.8350443 , 11.83513713,\n",
              "       16.94192575, 15.82633901, 19.46611245, 19.26225004, 13.32998395,\n",
              "       18.28398968, 13.88019751, 13.52633626, 11.85320633, 18.86715726,\n",
              "       14.26827203, 19.08321578, 10.09313715, 18.99783953, 14.4792087 ,\n",
              "       15.01906483, 15.68269574, 12.92609426, 13.62231524, 13.9797267 ,\n",
              "       14.95339633, 11.80663176, 14.7673457 , 10.61685028, 14.90381025,\n",
              "       16.55794023, 15.97786293, 14.24158968, 17.73825194, 10.40144252,\n",
              "       14.94033183, 15.33421968, 10.30800448, 10.64695635, 15.64148273,\n",
              "       15.86736795, 18.73417046, 12.72703254, 14.604292  , 12.4691661 ,\n",
              "       17.7027461 , 18.43387122, 12.80118954, 11.59645298, 12.89456938,\n",
              "       18.38770036, 10.89472017, 18.85869674, 10.16054806, 17.80214093,\n",
              "       10.61649459, 10.41108171, 10.68501441, 19.65783447, 10.05167423,\n",
              "       15.33719642, 11.87152117, 10.67820272, 17.4519422 , 18.83129674,\n",
              "       15.41551868, 15.55095099, 19.25266813, 10.64283869, 11.78181638])"
            ]
          },
          "metadata": {},
          "execution_count": 79
        }
      ]
    },
    {
      "cell_type": "markdown",
      "source": [
        "Оценки параметра θ"
      ],
      "metadata": {
        "id": "fEW1qWwo3hou"
      }
    },
    {
      "cell_type": "code",
      "source": [
        "xmax = sample.max() #x(n) - максимум выборки \n",
        "xmin = sample.min() #x(1) - минимум выборки \n",
        "𝛼1 = np.mean(sample) #оценка первого момента\n",
        "θ1 = 2/3*𝛼1 #оценка методом моментов\n",
        "θ2 = (n+1)/(2*n+1)*xmax #несмещенная оценка методом правдоподобия\n",
        "θ3 = (n+1)/(5*n+4)*(xmin + 2*xmax) #предложенная оценка\n",
        "print(\"оценка методом моментов: {:.3f}\".format(θ1))\n",
        "print(\"несмещенная оценка методом правдоподобия: {:.3f}\".format(θ2))\n",
        "print(\"предложенная оценка: {:.3f}\".format(θ3))"
      ],
      "metadata": {
        "colab": {
          "base_uri": "https://localhost:8080/"
        },
        "id": "usg4yq3O3hL9",
        "outputId": "1f274ed9-d853-4363-8242-04b33ef3f7e2"
      },
      "execution_count": 80,
      "outputs": [
        {
          "output_type": "stream",
          "name": "stdout",
          "text": [
            "оценка методом моментов: 9.779\n",
            "несмещенная оценка методом правдоподобия: 9.878\n",
            "предложенная оценка: 9.893\n"
          ]
        }
      ]
    },
    {
      "cell_type": "markdown",
      "source": [
        "Строим точный и ассимптотический доверительные интервалы для параметра θ"
      ],
      "metadata": {
        "id": "7VrwgBB6yaz1"
      }
    },
    {
      "cell_type": "code",
      "source": [
        "β = 0.95 #доверительная вероятность\n",
        "𝛼2 = 0 #несмещенная оценка второго момента\n",
        "for xi in sample:\n",
        "  𝛼2 += xi*xi/(n-1)\n",
        "print(\"[{:.3f}, {:.3f}] - точный\".format(xmax/(((1+β)/2)**(1/n)+1), xmax/(((1-β)/2)**(1/n)+1)))\n",
        "print(\"[{:.3f}, {:.3f}] - ассимптотический\".format((-1.96)*2/3*((𝛼2-𝛼1*𝛼1)**(1/2)) + 2/3*𝛼1, (1.96)*2/3*((𝛼2-𝛼1*𝛼1)**(1/2)) + 2/3*𝛼1))"
      ],
      "metadata": {
        "colab": {
          "base_uri": "https://localhost:8080/"
        },
        "id": "Gf7cQDFWyYUJ",
        "outputId": "5dd29069-41a8-47ee-a0d1-98c8565592be"
      },
      "execution_count": 81,
      "outputs": [
        {
          "output_type": "stream",
          "name": "stdout",
          "text": [
            "[9.830, 10.010] - точный\n",
            "[5.522, 14.036] - ассимптотический\n"
          ]
        }
      ]
    },
    {
      "cell_type": "markdown",
      "source": [
        "Параметрический бутстраповский доверительный интервал"
      ],
      "metadata": {
        "id": "ZQL77MX04zR5"
      }
    },
    {
      "cell_type": "code",
      "source": [
        "N = 1000\n",
        "subsamples = np.zeros((N, n))\n",
        "Δ1 = np.zeros(N)\n",
        "Δ2 = np.zeros(N)\n",
        "for i in range(N):\n",
        "    subsamples[i] = np.random.choice(sample, size = n)  #составляем подвыборки\n",
        "    Δ1[i] = 2/3*np.mean(subsamples[i]) - θ1\n",
        "    Δ2[i] = (n+1)/(2*n+1)*subsamples[i].max() - θ2\n",
        "Δ1.sort() #вариационные ряды\n",
        "Δ2.sort()\n",
        "print(\"[{:.3f}, {:.3f}] - ОММ\".format(θ1 - Δ1[974], θ1 - Δ1[24]))\n",
        "print(\"[{:.3f}, {:.3f}] - ОМП\".format(θ2 - Δ2[974], θ2 - Δ2[24]))"
      ],
      "metadata": {
        "colab": {
          "base_uri": "https://localhost:8080/"
        },
        "id": "xn_mGU-S4y4g",
        "outputId": "9998cc85-3b66-4b4e-bb63-730b804befac"
      },
      "execution_count": 82,
      "outputs": [
        {
          "output_type": "stream",
          "name": "stdout",
          "text": [
            "[9.399, 10.136] - ОММ\n",
            "[9.878, 10.081] - ОМП\n"
          ]
        }
      ]
    },
    {
      "cell_type": "markdown",
      "source": [
        "Непараметрический бутстраповский доверительный интервал для двух оценок: θ1 = 9.779 и θ2 = 9.878"
      ],
      "metadata": {
        "id": "z3pbOQe98snX"
      }
    },
    {
      "cell_type": "code",
      "source": [
        "N = 50000\n",
        "θ1_ = np.zeros(N)\n",
        "θ2_ = np.zeros(N)\n",
        "for i in range(N):\n",
        "    subsample1 = stats.uniform.rvs(size=n)*θ1 + θ1 #составляем подвыборки для θ1 - ОММ\n",
        "    subsample2 = stats.uniform.rvs(size=n)*θ2 + θ2 #составляем подвыборки для θ2 - ОМП\n",
        "    θ1_[i] = 2/3*np.mean(subsample1) \n",
        "    θ2_[i] = (n+1)/(2*n+1)*subsample2.max()\n",
        "θ1_.sort() #вариационные ряды\n",
        "θ2_.sort()\n",
        "print(\"[{:.3f}, {:.3f}] - ОММ\".format(θ1_[24], θ1_[974]))\n",
        "print(\"[{:.3f}, {:.3f}] - ОМП\".format(θ2_[24], θ2_[974]))"
      ],
      "metadata": {
        "colab": {
          "base_uri": "https://localhost:8080/"
        },
        "id": "MPtnwsYf8ryv",
        "outputId": "6f973934-74e5-4dc7-fa40-785cf6033ac2"
      },
      "execution_count": 84,
      "outputs": [
        {
          "output_type": "stream",
          "name": "stdout",
          "text": [
            "[9.158, 9.385] - ОММ\n",
            "[9.569, 9.736] - ОМП\n"
          ]
        }
      ]
    }
  ]
}