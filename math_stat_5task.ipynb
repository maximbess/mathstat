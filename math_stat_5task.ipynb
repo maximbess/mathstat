{
  "nbformat": 4,
  "nbformat_minor": 0,
  "metadata": {
    "colab": {
      "provenance": []
    },
    "kernelspec": {
      "name": "python3",
      "display_name": "Python 3"
    },
    "language_info": {
      "name": "python"
    }
  },
  "cells": [
    {
      "cell_type": "markdown",
      "source": [
        "### **№5**"
      ],
      "metadata": {
        "id": "Qz7Qy_OTjRHB"
      }
    },
    {
      "cell_type": "code",
      "execution_count": 2,
      "metadata": {
        "id": "5G5diGaliwjB"
      },
      "outputs": [],
      "source": [
        "import numpy as np\n",
        "import matplotlib.pyplot as plt\n",
        "import scipy.stats as sts\n",
        "import random\n"
      ]
    },
    {
      "cell_type": "code",
      "source": [
        "θ = 3\n",
        "n = 100\n",
        "β = 0.95\n",
        "sample = sts.pareto(b = θ).rvs(n)\n",
        "sample"
      ],
      "metadata": {
        "colab": {
          "base_uri": "https://localhost:8080/"
        },
        "id": "VfKsFheQjV7i",
        "outputId": "5bd27004-62e9-4aa8-a44a-e36650fcdb7d"
      },
      "execution_count": 25,
      "outputs": [
        {
          "output_type": "execute_result",
          "data": {
            "text/plain": [
              "array([1.15990143, 1.12706122, 1.70587678, 1.78171985, 1.1066675 ,\n",
              "       1.01457189, 1.05995434, 1.46753427, 2.14725479, 1.04733191,\n",
              "       1.10513641, 1.13023754, 3.43907683, 1.11863738, 1.27637559,\n",
              "       1.23416858, 3.35970742, 1.41829885, 1.11307623, 1.48590266,\n",
              "       1.16649606, 1.22161329, 1.23384994, 1.14275791, 1.56666572,\n",
              "       1.38220276, 1.22034554, 1.61129644, 1.03253347, 1.04114049,\n",
              "       1.3769553 , 1.001464  , 1.36951755, 1.49567456, 1.5973814 ,\n",
              "       1.47983055, 1.36620121, 2.55706547, 1.1493574 , 1.01409201,\n",
              "       1.01198145, 1.4485164 , 1.2752274 , 1.77888592, 1.0905324 ,\n",
              "       1.1527494 , 2.03688166, 1.32999027, 1.31986949, 1.41749116,\n",
              "       1.08731606, 1.00583192, 1.47943337, 1.00217357, 1.11016774,\n",
              "       1.87262508, 1.86301889, 1.03408602, 1.75702167, 2.06560384,\n",
              "       2.9479709 , 1.04019679, 1.10062158, 1.03746271, 1.41302464,\n",
              "       2.52746667, 3.67757117, 1.00884371, 1.23930892, 2.09640356,\n",
              "       1.4942443 , 2.3278348 , 1.33600984, 1.39228031, 1.97683724,\n",
              "       1.53692347, 1.57885476, 1.31452554, 1.22209349, 1.1459805 ,\n",
              "       2.42838668, 1.02214897, 1.5907119 , 1.11409536, 1.01754189,\n",
              "       1.02512814, 1.04235794, 1.35773424, 1.05772676, 5.4858065 ,\n",
              "       1.12836227, 1.48392185, 1.39162133, 1.26746351, 1.83363155,\n",
              "       1.32976745, 1.02858823, 1.41353071, 1.07711269, 1.24738146])"
            ]
          },
          "metadata": {},
          "execution_count": 25
        }
      ]
    },
    {
      "cell_type": "markdown",
      "source": [
        "## **e)**"
      ],
      "metadata": {
        "id": "3SRaSVlXmGyn"
      }
    },
    {
      "cell_type": "code",
      "source": [
        "θ_omp = n/np.sum(np.log(sample)) + 1\n",
        "median_beg = 2**(1/(θ_omp-1)) * (1 - np.log(2)*np.quantile(sample, (1+β)/2) / (np.sqrt(n)*(θ_omp-1)))\n",
        "median_end = 2**(1/(θ_omp-1)) * (1 - np.log(2)*np.quantile(sample, (1-β)/2) / (np.sqrt(n)*(θ_omp-1)))\n",
        "med = (np.sort(sample)[49] + np.sort(sample)[48])/2\n",
        "print('Доверительный интервал для медианы: (', round(median_beg, 3), ', ', round(median_end, 3), '), медиана: ', round(med, 3), sep = '')"
      ],
      "metadata": {
        "colab": {
          "base_uri": "https://localhost:8080/"
        },
        "id": "hdhLFiWNj39r",
        "outputId": "6b1416cf-ee00-4379-9970-e48f350dd4a8"
      },
      "execution_count": 26,
      "outputs": [
        {
          "output_type": "stream",
          "name": "stdout",
          "text": [
            "Доверительный интервал для медианы: (1.163, 1.233), медиана: 1.295\n"
          ]
        }
      ]
    },
    {
      "cell_type": "code",
      "source": [
        "beg = θ_omp - (θ_omp-1)*np.quantile(sample, (1+β)/2)/np.sqrt(n)\n",
        "end = θ_omp - (θ_omp-1)*np.quantile(sample, (1-β)/2)/np.sqrt(n)\n",
        "print('Доверительный интервал для параметра: (', round(beg,3), ', ', round(end, 3), ')', sep = '')"
      ],
      "metadata": {
        "colab": {
          "base_uri": "https://localhost:8080/"
        },
        "id": "mBoFQJTfk57P",
        "outputId": "ce8b5dc1-6bc2-4fda-fe13-f9524eb26095"
      },
      "execution_count": 27,
      "outputs": [
        {
          "output_type": "stream",
          "name": "stdout",
          "text": [
            "Доверительный интервал для параметра: (2.959, 3.67)\n"
          ]
        }
      ]
    },
    {
      "cell_type": "markdown",
      "source": [
        "## **f)**"
      ],
      "metadata": {
        "id": "RlL9J_8wmKEt"
      }
    },
    {
      "cell_type": "code",
      "source": [
        "Δ = []\n",
        "\n",
        "for i in range(1000):\n",
        "    subsample = np.random.choice(sample, size = n)\n",
        "    Δi = n/np.sum(np.log(subsample)) + 1 - θ_omp\n",
        "    Δ.append(Δi)\n",
        "\n",
        "Δ_var = np.sort(np.array(Δ))\n",
        "bootstrap_beg = θ_omp - Δ_var[974]\n",
        "bootstrap_end = θ_omp - Δ_var[24] \n",
        "print('Непараметрический Bootstrap доверительный интервал: (', round(bootstrap_beg,3), ', ', round(bootstrap_end, 3), ')', sep = '')"
      ],
      "metadata": {
        "colab": {
          "base_uri": "https://localhost:8080/"
        },
        "id": "luUSAoPvmhau",
        "outputId": "5c3775b9-e94c-4185-9076-67d57116ecc7"
      },
      "execution_count": 31,
      "outputs": [
        {
          "output_type": "stream",
          "name": "stdout",
          "text": [
            "Непараметрический Bootstrap доверительный интервал: (3.288, 4.431)\n"
          ]
        }
      ]
    },
    {
      "cell_type": "code",
      "source": [
        "Δ_param = []\n",
        "N = 10000\n",
        "\n",
        "for i in range(N):\n",
        "    subsample = sts.pareto(b = θ).rvs(n)\n",
        "    Δi = n/np.sum(np.log(subsample)) + 1 - θ_omp\n",
        "    Δ_param.append(Δi)\n",
        "\n",
        "bootstrap_par_beg  = θ_omp + np.sort(np.array(Δ_param))[int((1-β)/2 * N)]\n",
        "bootstrap_par_end = θ_omp + np.sort(np.array(Δ_param))[int((1+β)/2 * N)]\n",
        "print('Параметрический bootstrap доверительный интервал: (', round(bootstrap_par_beg,3), ', ', round(bootstrap_par_end, 3), ')', sep = '')\n"
      ],
      "metadata": {
        "colab": {
          "base_uri": "https://localhost:8080/"
        },
        "id": "-oPwu28foUqi",
        "outputId": "b851378e-852d-41cf-ec27-35598aa30f0b"
      },
      "execution_count": 30,
      "outputs": [
        {
          "output_type": "stream",
          "name": "stdout",
          "text": [
            "Параметрический bootstrap доверительный интервал: (3.499, 4.693)\n"
          ]
        }
      ]
    },
    {
      "cell_type": "markdown",
      "source": [
        "## **g)**"
      ],
      "metadata": {
        "id": "cKA4fIhkphDh"
      }
    },
    {
      "cell_type": "code",
      "source": [
        "print('ширина асимптотического интервала: ', round(end-beg, 3))\n",
        "print('ширина непараметрического bootstrap интервала: ', round(bootstrap_end-bootstrap_beg, 3))\n",
        "print('ширина параметрического bootstrap интервала: ', round(bootstrap_par_end-bootstrap_par_beg, 3))\n"
      ],
      "metadata": {
        "colab": {
          "base_uri": "https://localhost:8080/"
        },
        "id": "KuX1V7JPpWaW",
        "outputId": "2c1ba75c-9817-40a2-9a5c-eba29edbdc8d"
      },
      "execution_count": 32,
      "outputs": [
        {
          "output_type": "stream",
          "name": "stdout",
          "text": [
            "ширина асимптотического интервала:  0.711\n",
            "ширина непараметрического bootstrap интервала:  1.143\n",
            "ширина параметрического bootstrap интервала:  1.194\n"
          ]
        }
      ]
    }
  ]
}